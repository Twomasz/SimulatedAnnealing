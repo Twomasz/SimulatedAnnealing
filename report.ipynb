{
 "cells": [
  {
   "cell_type": "markdown",
   "metadata": {
    "slideshow": {
     "slide_type": "slide"
    }
   },
   "source": [
    "# Przeprowadzone testy"
   ]
  },
  {
   "cell_type": "code",
   "execution_count": 1,
   "metadata": {
    "slideshow": {
     "slide_type": "subslide"
    }
   },
   "outputs": [],
   "source": [
    "import pandas as pd\n",
    "from data_structures import Item, Warehouse, Company, Solution\n",
    "from simulated_annealing import TemperatureFunction, IterationsFunction, SimulatedAnnealing\n",
    "from visualization_tools import fill_warehouse, print_selected_items, plot_algorithm, plot_temperature_and_iterations "
   ]
  },
  {
   "cell_type": "code",
   "execution_count": 2,
   "metadata": {
    "slideshow": {
     "slide_type": "subslide"
    }
   },
   "outputs": [],
   "source": [
    "# DANE DLA MAŁEGO PRZYPADKU\n",
    "small_company = Company(4, 10000, 0.1)\n",
    "small_warehouse = Warehouse()\n",
    "fill_warehouse(small_warehouse, 'data/Items-SmallList.csv')\n",
    "\n",
    "# DANE DLA PRZYPADKU ŚREDNIEJ WIELKOŚCI\n",
    "medium_company = Company(10, 50000, 0.1)\n",
    "medium_warehouse = Warehouse()\n",
    "fill_warehouse(medium_warehouse, 'data/Items-MediumList.csv')\n",
    "\n",
    "# DANE DLA DUŻEGO PRZYPADKU\n",
    "big_company = Company(50, 100000, 0.1)\n",
    "big_warehouse = Warehouse()\n",
    "fill_warehouse(big_warehouse, 'data/Items-BigList.csv')"
   ]
  },
  {
   "cell_type": "markdown",
   "metadata": {},
   "source": [
    "# Dla jakich parametrów będziemy testować algorytm?\n",
    "\n",
    "* wybór rozwiązania początkowego\n",
    "* wybór rozwiązania sąsiadującego\n",
    "* współczynnika ilości wyrzuconych  do wszystkich wybranych części \n",
    "* zmiennego spadku temperatury\n",
    "* ilości iteracji w poszczególnych epokach\n",
    "\n",
    "__Wszystkie testy będą prowadzone dla przypadków o__:\n",
    "* małym rozmiarze   (wybór 4 z 10 rodzajów części)\n",
    "* średnim rozmiarze (wybór 10 z 100 rodzajów części)\n",
    "* dużym rozmiarze   (wybór 50 z 1000 rodzajów części)"
   ]
  },
  {
   "cell_type": "markdown",
   "metadata": {
    "slideshow": {
     "slide_type": "slide"
    }
   },
   "source": [
    "# Zacznijmy od analizy rozwiązania początkowego:\n",
    "__Wersje rozwiązania:__\n",
    "* __random__ - wybranie rodzaju i liczby części w sposób losowy\n",
    "* __greatest__ - wybranie rodzaju części z najwyższymi marżami oraz ilości, którą da się kupić za 1/K-tą budżetu\n",
    "* __uncommon__ - wybranie rodzaju części najrzadziej występujących na rynku oraz ilości, którą da się kupić za 1/K-tą budżetu"
   ]
  },
  {
   "cell_type": "markdown",
   "metadata": {
    "slideshow": {
     "slide_type": "slide"
    }
   },
   "source": [
    "## Działanie metody dla małego przypadku"
   ]
  },
  {
   "cell_type": "code",
   "execution_count": 3,
   "metadata": {
    "slideshow": {
     "slide_type": "-"
    }
   },
   "outputs": [
    {
     "name": "stdout",
     "output_type": "stream",
     "text": [
      "WERSJA LOSOWA:      1289.41\n",
      "WERSJA Z MARŻAMI:   1577.91\n",
      "WERSJA NAJRZADSZE:  1002.64\n"
     ]
    }
   ],
   "source": [
    "avg_for_small_case = 0\n",
    "\n",
    "for _ in range(1000):   # TESTUJEMY ŚREDNI OTRZYMANY WYNIK\n",
    "    s1 = Solution(small_company, small_warehouse.stored_items, solution_type='init', init_ver='random')\n",
    "    avg_for_small_case += s1.profit\n",
    "    \n",
    "s2 = Solution(small_company, small_warehouse.stored_items, solution_type='init', init_ver='greatest')\n",
    "s3 = Solution(small_company, small_warehouse.stored_items, solution_type='init', init_ver='uncommon')\n",
    "    \n",
    "print('WERSJA LOSOWA:     ', f'{avg_for_small_case/1000:.2f}')\n",
    "print('WERSJA Z MARŻAMI:  ', f'{s2.profit:.2f}')\n",
    "print('WERSJA NAJRZADSZE: ', f'{s3.profit:.2f}')"
   ]
  },
  {
   "cell_type": "markdown",
   "metadata": {
    "slideshow": {
     "slide_type": "slide"
    }
   },
   "source": [
    "## Działanie metody dla średniego przypadku"
   ]
  },
  {
   "cell_type": "code",
   "execution_count": 4,
   "metadata": {
    "slideshow": {
     "slide_type": "-"
    }
   },
   "outputs": [
    {
     "name": "stdout",
     "output_type": "stream",
     "text": [
      "WERSJA LOSOWA:      7822.67\n",
      "WERSJA Z MARŻAMI:   16368.13\n",
      "WERSJA NAJRZADSZE:  13059.05\n"
     ]
    }
   ],
   "source": [
    "avg_for_medium_case = 0\n",
    "\n",
    "for _ in range(1000):   # TESTUJEMY ŚREDNI OTRZYMANY WYNIK\n",
    "    s1 = Solution(medium_company, medium_warehouse.stored_items, solution_type='init', init_ver='random')\n",
    "    avg_for_medium_case += s1.profit\n",
    "    \n",
    "s2 = Solution(medium_company, medium_warehouse.stored_items, solution_type='init', init_ver='greatest')\n",
    "s3 = Solution(medium_company, medium_warehouse.stored_items, solution_type='init', init_ver='uncommon')\n",
    "    \n",
    "print('WERSJA LOSOWA:     ', f'{avg_for_medium_case/1000:.2f}')\n",
    "print('WERSJA Z MARŻAMI:  ', f'{s2.profit:.2f}')\n",
    "print('WERSJA NAJRZADSZE: ', f'{s3.profit:.2f}')"
   ]
  },
  {
   "cell_type": "markdown",
   "metadata": {
    "slideshow": {
     "slide_type": "slide"
    }
   },
   "source": [
    "## Działanie metody dla dużego przypadku"
   ]
  },
  {
   "cell_type": "code",
   "execution_count": 5,
   "metadata": {
    "slideshow": {
     "slide_type": "-"
    }
   },
   "outputs": [],
   "source": [
    "# avg_for_big_case = 0\n",
    "\n",
    "# for _ in range(1000):   # TESTUJEMY ŚREDNI OTRZYMANY WYNIK\n",
    "#     s1 = Solution(big_company, big_warehouse.stored_items, solution_type='init', init_ver='random')\n",
    "#     avg_for_big_case += s1.profit\n",
    "    \n",
    "# s2 = Solution(big_company, big_warehouse.stored_items, solution_type='init', init_ver='greatest')\n",
    "# s3 = Solution(big_company, big_warehouse.stored_items, solution_type='init', init_ver='uncommon')\n",
    "    \n",
    "# print('WERSJA LOSOWA:     ', f'{avg_for_big_case/1000:.2f}')\n",
    "# print('WERSJA Z MARŻAMI:  ', f'{s2.profit:.2f}')\n",
    "# print('WERSJA NAJRZADSZE: ', f'{s3.profit:.2f}')"
   ]
  },
  {
   "cell_type": "markdown",
   "metadata": {
    "slideshow": {
     "slide_type": "slide"
    }
   },
   "source": [
    "# Analiza różnych definicji sąsiedztwa:\n",
    "__Wersje rozwiązania sąsiadującego:__\n",
    "* __random__ - wyrzucenie i dobór nowych części oraz ich ilości w sposób losowy\n",
    "* __margin__ - wyrzucenie i dobór nowych części na podstawie najlepszych marży (ilość dobierana w sposób losowy)\n",
    "* __profit__ - wyrzucenie i dobór nowych części na podstawie największego zysku (ilość dobierana w sposób losowy)\n",
    "\n",
    "__UWAGA!__ Ponieważ każda z wersji zawiera element losowy testy przeprowadzamy wielokrotnie i wyciągamy z nich średnią"
   ]
  },
  {
   "cell_type": "markdown",
   "metadata": {},
   "source": [
    "# Algorytm będziemy testować dla poniższych funkcji temperatury i iteracji"
   ]
  },
  {
   "cell_type": "code",
   "execution_count": 11,
   "metadata": {},
   "outputs": [
    {
     "data": {
      "image/png": "[encoded data removed]",
      "text/plain": [
       "<Figure size 1200x300 with 2 Axes>"
      ]
     },
     "metadata": {},
     "output_type": "display_data"
    }
   ],
   "source": [
    "temps1 = TemperatureFunction(1000, 240, 5, version='arithmetic')\n",
    "iters1 = IterationsFunction(50, 150, 5, version='linear')\n",
    "\n",
    "plot_temperature_and_iterations(temps1, iters1)"
   ]
  },
  {
   "cell_type": "markdown",
   "metadata": {
    "slideshow": {
     "slide_type": "slide"
    }
   },
   "source": [
    "## Działanie metody dla małego przypadku"
   ]
  },
  {
   "cell_type": "code",
   "execution_count": null,
   "metadata": {},
   "outputs": [],
   "source": [
    "temps = TemperatureFunction(1000, 0.5, 5, version='geometric')\n",
    "iters = IterationsFunction(50, 200, 5, version='square')\n",
    "# temps = [1000, 900, 800, 700, 600]\n",
    "# iters = [1, 1, 1, 1, 1]\n",
    "\n",
    "result, best_result, chosen_items, way_of_algorithm = SimulatedAnnealing(company, warehouse.stored_items, temps, iters, init_version='uncommon')\n",
    "\n",
    "plot_temperature_and_iterations(temps, iters)\n",
    "plot_algorithm(way_of_algorithm, best_result, iters)\n",
    "print(best_result)\n",
    "print_selected_items(chosen_items)"
   ]
  },
  {
   "cell_type": "markdown",
   "metadata": {},
   "source": [
    "## Działanie metody dla średniego przypadku"
   ]
  },
  {
   "cell_type": "code",
   "execution_count": null,
   "metadata": {},
   "outputs": [],
   "source": []
  },
  {
   "cell_type": "markdown",
   "metadata": {},
   "source": [
    "## Działanie metody dla dużego przypadku"
   ]
  },
  {
   "cell_type": "code",
   "execution_count": null,
   "metadata": {},
   "outputs": [],
   "source": []
  },
  {
   "cell_type": "code",
   "execution_count": null,
   "metadata": {},
   "outputs": [],
   "source": [
    "## zacznij od testowania rozwiazania początkowego za pomocą klasy solution\n",
    "# opisz parametryzację\n",
    "# potem dobierz sąsiedztwo\n",
    "# potem drop coeff itd"
   ]
  },
  {
   "cell_type": "code",
   "execution_count": null,
   "metadata": {},
   "outputs": [],
   "source": [
    "temps1 = TemperatureFunction(1000, 0.5, 5, version='geometric')\n",
    "iters1 = IterationsFunction(50, 200, 5, version='square')\n",
    "\n",
    "plot_temperature_and_iterations(temps1, iters1)"
   ]
  },
  {
   "cell_type": "code",
   "execution_count": null,
   "metadata": {},
   "outputs": [],
   "source": []
  },
  {
   "cell_type": "code",
   "execution_count": null,
   "metadata": {},
   "outputs": [],
   "source": []
  },
  {
   "cell_type": "code",
   "execution_count": null,
   "metadata": {},
   "outputs": [],
   "source": []
  },
  {
   "cell_type": "code",
   "execution_count": null,
   "metadata": {
    "slideshow": {
     "slide_type": "-"
    }
   },
   "outputs": [],
   "source": [
    "warehouse = Warehouse()\n",
    "\n",
    "fill_warehouse(warehouse, 'data/Items-MediumList.csv')\n",
    "\n",
    "company = Company(10, 50000, 0.1)\n",
    "\n",
    "temps = TemperatureFunction(1000, 0.5, 5, version='geometric')\n",
    "iters = IterationsFunction(50, 200, 5, version='square')\n",
    "# temps = [1000, 900, 800, 700, 600]\n",
    "# iters = [1, 1, 1, 1, 1]\n",
    "\n",
    "result, best_result, chosen_items, way_of_algorithm = SimulatedAnnealing(company, warehouse.stored_items, temps, iters, init_version='uncommon')\n",
    "\n",
    "plot_temperature_and_iterations(temps, iters)\n",
    "plot_algorithm(way_of_algorithm, best_result, iters)\n",
    "print(best_result)\n",
    "print_selected_items(chosen_items)"
   ]
  },
  {
   "cell_type": "markdown",
   "metadata": {},
   "source": [
    "## Różne podejścia"
   ]
  },
  {
   "cell_type": "code",
   "execution_count": null,
   "metadata": {},
   "outputs": [],
   "source": []
  },
  {
   "cell_type": "code",
   "execution_count": null,
   "metadata": {},
   "outputs": [],
   "source": []
  },
  {
   "cell_type": "code",
   "execution_count": null,
   "metadata": {},
   "outputs": [],
   "source": []
  }
 ],
 "metadata": {
  "kernelspec": {
   "display_name": "Python 3 (ipykernel)",
   "language": "python",
   "name": "python3"
  },
  "language_info": {
   "codemirror_mode": {
    "name": "ipython",
    "version": 3
   },
   "file_extension": ".py",
   "mimetype": "text/x-python",
   "name": "python",
   "nbconvert_exporter": "python",
   "pygments_lexer": "ipython3",
   "version": "3.10.6"
  }
 },
 "nbformat": 4,
 "nbformat_minor": 1
}
